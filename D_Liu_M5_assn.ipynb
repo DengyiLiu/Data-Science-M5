{
 "cells": [
  {
   "cell_type": "markdown",
   "id": "2823c17a",
   "metadata": {},
   "source": [
    "## M5 Assignment\n",
    "### Team Members: Dengyi Liu, Yuchen Wang"
   ]
  },
  {
   "cell_type": "markdown",
   "id": "de466cc6",
   "metadata": {},
   "source": [
    "### Introduction:\n",
    "* In this assignment we completed the required thirteen questions.\n",
    "* We tried our best to complete several questions similar to \"algorithms\", that is, creating functions to calculate the metrics of various evaluation models.\n",
    "* In the process of completing the homework, we also found some problems, that is, the built-in function in the last question may be outdated, and at the same time, the AUC calculated by using the built-in function is not consistent with the AUC calculated by the function we created ourselves."
   ]
  },
  {
   "cell_type": "markdown",
   "id": "3f2c44ec",
   "metadata": {},
   "source": [
    "### Import necessary libraries"
   ]
  },
  {
   "cell_type": "code",
   "execution_count": 1,
   "id": "5c69aa50",
   "metadata": {},
   "outputs": [],
   "source": [
    "import pandas as pd\n",
    "import numpy as np\n",
    "\n",
    "import matplotlib.pyplot as plt"
   ]
  },
  {
   "cell_type": "markdown",
   "id": "73cdd493",
   "metadata": {},
   "source": [
    "### Read the data"
   ]
  },
  {
   "cell_type": "code",
   "execution_count": 2,
   "id": "db7b3cc5",
   "metadata": {},
   "outputs": [
    {
     "data": {
      "text/html": [
       "<div>\n",
       "<style scoped>\n",
       "    .dataframe tbody tr th:only-of-type {\n",
       "        vertical-align: middle;\n",
       "    }\n",
       "\n",
       "    .dataframe tbody tr th {\n",
       "        vertical-align: top;\n",
       "    }\n",
       "\n",
       "    .dataframe thead th {\n",
       "        text-align: right;\n",
       "    }\n",
       "</style>\n",
       "<table border=\"1\" class=\"dataframe\">\n",
       "  <thead>\n",
       "    <tr style=\"text-align: right;\">\n",
       "      <th></th>\n",
       "      <th>pregnant</th>\n",
       "      <th>glucose</th>\n",
       "      <th>diastolic</th>\n",
       "      <th>skinfold</th>\n",
       "      <th>insulin</th>\n",
       "      <th>bmi</th>\n",
       "      <th>pedigree</th>\n",
       "      <th>age</th>\n",
       "      <th>class</th>\n",
       "      <th>scored.class</th>\n",
       "      <th>scored.probability</th>\n",
       "    </tr>\n",
       "  </thead>\n",
       "  <tbody>\n",
       "    <tr>\n",
       "      <th>0</th>\n",
       "      <td>7</td>\n",
       "      <td>124</td>\n",
       "      <td>70</td>\n",
       "      <td>33</td>\n",
       "      <td>215</td>\n",
       "      <td>25.5</td>\n",
       "      <td>0.161</td>\n",
       "      <td>37</td>\n",
       "      <td>0</td>\n",
       "      <td>0</td>\n",
       "      <td>0.328452</td>\n",
       "    </tr>\n",
       "    <tr>\n",
       "      <th>1</th>\n",
       "      <td>2</td>\n",
       "      <td>122</td>\n",
       "      <td>76</td>\n",
       "      <td>27</td>\n",
       "      <td>200</td>\n",
       "      <td>35.9</td>\n",
       "      <td>0.483</td>\n",
       "      <td>26</td>\n",
       "      <td>0</td>\n",
       "      <td>0</td>\n",
       "      <td>0.273190</td>\n",
       "    </tr>\n",
       "    <tr>\n",
       "      <th>2</th>\n",
       "      <td>3</td>\n",
       "      <td>107</td>\n",
       "      <td>62</td>\n",
       "      <td>13</td>\n",
       "      <td>48</td>\n",
       "      <td>22.9</td>\n",
       "      <td>0.678</td>\n",
       "      <td>23</td>\n",
       "      <td>1</td>\n",
       "      <td>0</td>\n",
       "      <td>0.109660</td>\n",
       "    </tr>\n",
       "    <tr>\n",
       "      <th>3</th>\n",
       "      <td>1</td>\n",
       "      <td>91</td>\n",
       "      <td>64</td>\n",
       "      <td>24</td>\n",
       "      <td>0</td>\n",
       "      <td>29.2</td>\n",
       "      <td>0.192</td>\n",
       "      <td>21</td>\n",
       "      <td>0</td>\n",
       "      <td>0</td>\n",
       "      <td>0.055998</td>\n",
       "    </tr>\n",
       "    <tr>\n",
       "      <th>4</th>\n",
       "      <td>4</td>\n",
       "      <td>83</td>\n",
       "      <td>86</td>\n",
       "      <td>19</td>\n",
       "      <td>0</td>\n",
       "      <td>29.3</td>\n",
       "      <td>0.317</td>\n",
       "      <td>34</td>\n",
       "      <td>0</td>\n",
       "      <td>0</td>\n",
       "      <td>0.100491</td>\n",
       "    </tr>\n",
       "  </tbody>\n",
       "</table>\n",
       "</div>"
      ],
      "text/plain": [
       "   pregnant  glucose  diastolic  skinfold  insulin   bmi  pedigree  age  \\\n",
       "0         7      124         70        33      215  25.5     0.161   37   \n",
       "1         2      122         76        27      200  35.9     0.483   26   \n",
       "2         3      107         62        13       48  22.9     0.678   23   \n",
       "3         1       91         64        24        0  29.2     0.192   21   \n",
       "4         4       83         86        19        0  29.3     0.317   34   \n",
       "\n",
       "   class  scored.class  scored.probability  \n",
       "0      0             0            0.328452  \n",
       "1      0             0            0.273190  \n",
       "2      1             0            0.109660  \n",
       "3      0             0            0.055998  \n",
       "4      0             0            0.100491  "
      ]
     },
     "execution_count": 2,
     "metadata": {},
     "output_type": "execute_result"
    }
   ],
   "source": [
    "df = pd.read_csv('https://raw.githubusercontent.com/ycwang15/Data-Science/main/M5/M5_Data.csv')\n",
    "df.head()"
   ]
  },
  {
   "cell_type": "markdown",
   "id": "845a4eb1",
   "metadata": {},
   "source": [
    "### Crosstab()"
   ]
  },
  {
   "cell_type": "code",
   "execution_count": 3,
   "id": "d07bc30e",
   "metadata": {},
   "outputs": [],
   "source": [
    "y_actual = df['class']\n",
    "y_predict = df['scored.class']"
   ]
  },
  {
   "cell_type": "code",
   "execution_count": 4,
   "id": "5922551b",
   "metadata": {},
   "outputs": [
    {
     "name": "stdout",
     "output_type": "stream",
     "text": [
      "predict    0   1\n",
      "actual          \n",
      "0        119   5\n",
      "1         30  27\n"
     ]
    }
   ],
   "source": [
    "confusion_matrix = pd.crosstab(y_actual, y_predict,rownames=['actual'],colnames=['predict'])\n",
    "print(confusion_matrix)"
   ]
  },
  {
   "cell_type": "markdown",
   "id": "58ba2432",
   "metadata": {},
   "source": [
    "### Extract"
   ]
  },
  {
   "cell_type": "code",
   "execution_count": 5,
   "id": "3bec0fbf",
   "metadata": {},
   "outputs": [
    {
     "name": "stdout",
     "output_type": "stream",
     "text": [
      "{'TP': 27, 'FP': 5, 'TN': 119, 'FN': 30}\n"
     ]
    }
   ],
   "source": [
    "tp = confusion_matrix.iloc[1,1]\n",
    "tn = confusion_matrix.iloc[0,0]\n",
    "fp = confusion_matrix.iloc[0,1]\n",
    "fn = confusion_matrix.iloc[1,0]\n",
    "\n",
    "confusion_dict = {'TP': tp, 'FP': fp, 'TN': tn, 'FN': fn}\n",
    "print(confusion_dict)"
   ]
  },
  {
   "cell_type": "markdown",
   "id": "1a024476",
   "metadata": {},
   "source": [
    "### Accuracy Function"
   ]
  },
  {
   "cell_type": "code",
   "execution_count": 6,
   "id": "9239e1bb",
   "metadata": {},
   "outputs": [],
   "source": [
    "def accuracy_function(actual,predict):\n",
    "    if len(actual) != len(predict):\n",
    "        print('length error') \n",
    "    \n",
    "    correct_predictions = 0\n",
    "    for i in range(len(actual)):\n",
    "        if actual[i] == predict[i]:\n",
    "            correct_predictions += 1\n",
    "    accuracy = correct_predictions / len(actual)\n",
    "    \n",
    "    return accuracy"
   ]
  },
  {
   "cell_type": "markdown",
   "id": "7ca39a4c",
   "metadata": {},
   "source": [
    "### Precision Function"
   ]
  },
  {
   "cell_type": "code",
   "execution_count": 7,
   "id": "b1d5f315",
   "metadata": {},
   "outputs": [],
   "source": [
    "def precision_function(actual,predict):\n",
    "    if len(actual) != len(predict):\n",
    "        print('length error') \n",
    "    \n",
    "    true_positives = 0\n",
    "    false_positives = 0\n",
    "    for i in range(len(actual)):\n",
    "        if actual[i] == 1 and predict[i] == 1:\n",
    "            true_positives += 1\n",
    "        elif actual[i] == 0 and predict[i] == 1:\n",
    "            false_positives += 1\n",
    "    precision = true_positives / (true_positives + false_positives)\n",
    "    return precision"
   ]
  },
  {
   "cell_type": "markdown",
   "id": "1d9779fe",
   "metadata": {},
   "source": [
    "### Recall Function"
   ]
  },
  {
   "cell_type": "code",
   "execution_count": 8,
   "id": "6717f9f3",
   "metadata": {},
   "outputs": [],
   "source": [
    "def recall_function(actual,predict):\n",
    "    if len(actual) != len(predict):\n",
    "        print('length error') \n",
    "    \n",
    "    true_positives = 0\n",
    "    false_negatives = 0\n",
    "    for i in range(len(actual)):\n",
    "        if actual[i] == 1 and predict[i] == 1:\n",
    "            true_positives += 1\n",
    "        elif actual[i] == 1 and predict[i] == 0:\n",
    "            false_negatives += 1\n",
    "    recall = true_positives / (true_positives + false_negatives)\n",
    "    return recall"
   ]
  },
  {
   "cell_type": "markdown",
   "id": "20a07d26",
   "metadata": {},
   "source": [
    "### Specificity Function"
   ]
  },
  {
   "cell_type": "code",
   "execution_count": 9,
   "id": "d41b4a0f",
   "metadata": {},
   "outputs": [],
   "source": [
    "def specificity_function(actual,predict):\n",
    "    if len(actual) != len(predict):\n",
    "        print('length error') \n",
    "    \n",
    "    true_negatives = 0\n",
    "    false_positives = 0\n",
    "    for i in range(len(actual)):\n",
    "        if actual[i] == 0 and predict[i] == 0:\n",
    "            true_negatives += 1\n",
    "        elif actual[i] == 0 and predict[i] == 1:\n",
    "            false_positives += 1\n",
    "    specificity = true_negatives / (true_negatives + false_positives)\n",
    "    return specificity"
   ]
  },
  {
   "cell_type": "markdown",
   "id": "a9071dd0",
   "metadata": {},
   "source": [
    "### F1 Score Function"
   ]
  },
  {
   "cell_type": "code",
   "execution_count": 10,
   "id": "0d2d254d",
   "metadata": {},
   "outputs": [],
   "source": [
    "def f1_score(actual,predict):\n",
    "    if len(actual) != len(predict):\n",
    "        print('length error') \n",
    "    \n",
    "    true_positives = 0\n",
    "    false_positives = 0\n",
    "    false_negatives = 0\n",
    "    for i in range(len(actual)):\n",
    "        if actual[i] == 1 and predict[i] == 1:\n",
    "            true_positives += 1\n",
    "        elif actual[i] == 0 and predict[i] == 1:\n",
    "            false_positives += 1\n",
    "        elif actual[i] == 1 and predict[i] == 0:\n",
    "            false_negatives += 1\n",
    "    precision = true_positives / (true_positives + false_positives)\n",
    "    recall = true_positives / (true_positives + false_negatives)\n",
    "    f1 = 2 * (precision * recall) / (precision + recall)\n",
    "    return f1"
   ]
  },
  {
   "cell_type": "markdown",
   "id": "a22fb22f",
   "metadata": {},
   "source": [
    "### ROC & AUC"
   ]
  },
  {
   "cell_type": "code",
   "execution_count": 11,
   "id": "18fd9859",
   "metadata": {},
   "outputs": [],
   "source": [
    "threshold = np.arange(0, 1.001, 0.001)\n",
    "\n",
    "def roc_plot(actual, predict):\n",
    "    fpr_all = []\n",
    "    tpr_all = []\n",
    "    if len(actual) != len(predict):\n",
    "        print('length error')\n",
    "\n",
    "    for i in threshold:\n",
    "        mask = np.where(df['scored.probability'] > i, True, False)\n",
    "        true_positives = sum(actual[mask] == 1)\n",
    "        false_positives = sum(actual[mask] == 0)\n",
    "        total_positives = sum(actual)\n",
    "        total_negatives = len(actual) - total_positives\n",
    "\n",
    "        fpr = false_positives / total_negatives\n",
    "        tpr = true_positives / total_positives\n",
    "\n",
    "        fpr_all.append(fpr)\n",
    "        tpr_all.append(tpr)\n",
    "    \n",
    "        auc = 0\n",
    "        for j in range(1, len(fpr_all)):\n",
    "            auc += abs((tpr_all[j-1] + tpr_all[j]) * (fpr_all[j] - fpr_all[j-1]) / 2)\n",
    "\n",
    "    plt.plot(fpr_all, tpr_all, label=f\"AUC = {auc:.3f}\")\n",
    "    plt.plot([0, 1], [0, 1], linestyle=\"--\", label=\"Random Line\")\n",
    "    plt.xlabel(\"False Positive Rate\")\n",
    "    plt.ylabel(\"True Positive Rate\")\n",
    "    plt.title(\"ROC Curve\")\n",
    "    plt.legend()\n",
    "    plt.show()"
   ]
  },
  {
   "cell_type": "markdown",
   "id": "fa54b9d4",
   "metadata": {},
   "source": [
    "### Apply each function"
   ]
  },
  {
   "cell_type": "markdown",
   "id": "92e65fe4",
   "metadata": {},
   "source": [
    "**Accuracy Function**"
   ]
  },
  {
   "cell_type": "code",
   "execution_count": 12,
   "id": "dab6cae4",
   "metadata": {},
   "outputs": [
    {
     "data": {
      "text/plain": [
       "0.8066298342541437"
      ]
     },
     "execution_count": 12,
     "metadata": {},
     "output_type": "execute_result"
    }
   ],
   "source": [
    "accuracy_function(df['class'],df['scored.class'])"
   ]
  },
  {
   "cell_type": "markdown",
   "id": "f4657f01",
   "metadata": {},
   "source": [
    "**Precision Function**"
   ]
  },
  {
   "cell_type": "code",
   "execution_count": 13,
   "id": "056b20fb",
   "metadata": {},
   "outputs": [
    {
     "data": {
      "text/plain": [
       "0.84375"
      ]
     },
     "execution_count": 13,
     "metadata": {},
     "output_type": "execute_result"
    }
   ],
   "source": [
    "precision_function(df['class'],df['scored.class'])"
   ]
  },
  {
   "cell_type": "markdown",
   "id": "6ed9d82f",
   "metadata": {},
   "source": [
    "**Recall Function**"
   ]
  },
  {
   "cell_type": "code",
   "execution_count": 14,
   "id": "4b54cdb8",
   "metadata": {},
   "outputs": [
    {
     "data": {
      "text/plain": [
       "0.47368421052631576"
      ]
     },
     "execution_count": 14,
     "metadata": {},
     "output_type": "execute_result"
    }
   ],
   "source": [
    "recall_function(df['class'],df['scored.class'])"
   ]
  },
  {
   "cell_type": "markdown",
   "id": "704512a2",
   "metadata": {},
   "source": [
    "**Specificity Function**"
   ]
  },
  {
   "cell_type": "code",
   "execution_count": 15,
   "id": "0b7376b4",
   "metadata": {},
   "outputs": [
    {
     "data": {
      "text/plain": [
       "0.9596774193548387"
      ]
     },
     "execution_count": 15,
     "metadata": {},
     "output_type": "execute_result"
    }
   ],
   "source": [
    "specificity_function(df['class'],df['scored.class'])"
   ]
  },
  {
   "cell_type": "markdown",
   "id": "7d164050",
   "metadata": {},
   "source": [
    "**F1 Score Function**"
   ]
  },
  {
   "cell_type": "code",
   "execution_count": 16,
   "id": "b5115075",
   "metadata": {},
   "outputs": [
    {
     "data": {
      "text/plain": [
       "0.6067415730337079"
      ]
     },
     "execution_count": 16,
     "metadata": {},
     "output_type": "execute_result"
    }
   ],
   "source": [
    "f1_score(df['class'],df['scored.class'])"
   ]
  },
  {
   "cell_type": "markdown",
   "id": "1c9cbff4",
   "metadata": {},
   "source": [
    "**ROC & AUC Function**"
   ]
  },
  {
   "cell_type": "code",
   "execution_count": 17,
   "id": "78497151",
   "metadata": {},
   "outputs": [
    {
     "data": {
      "image/png": "[encoded data removed]",
      "text/plain": [
       "<Figure size 640x480 with 1 Axes>"
      ]
     },
     "metadata": {},
     "output_type": "display_data"
    }
   ],
   "source": [
    "roc_plot(df['class'],df['scored.class'])"
   ]
  },
  {
   "cell_type": "markdown",
   "id": "4e48cc9b",
   "metadata": {},
   "source": [
    "### Compare"
   ]
  },
  {
   "cell_type": "code",
   "execution_count": 18,
   "id": "ee881b45",
   "metadata": {},
   "outputs": [],
   "source": [
    "from sklearn.metrics import (\n",
    "    f1_score,\n",
    "    accuracy_score,\n",
    "    recall_score,\n",
    "    precision_score,\n",
    "    confusion_matrix,\n",
    "    classification_report\n",
    ")"
   ]
  },
  {
   "cell_type": "markdown",
   "id": "654b9935",
   "metadata": {},
   "source": [
    "**Accuracy Score**"
   ]
  },
  {
   "cell_type": "code",
   "execution_count": 19,
   "id": "54fda845",
   "metadata": {},
   "outputs": [
    {
     "data": {
      "text/plain": [
       "0.8066298342541437"
      ]
     },
     "execution_count": 19,
     "metadata": {},
     "output_type": "execute_result"
    }
   ],
   "source": [
    "accuracy_score(df['class'],df['scored.class'])"
   ]
  },
  {
   "cell_type": "markdown",
   "id": "0e22d8b5",
   "metadata": {},
   "source": [
    "**Precision Score**"
   ]
  },
  {
   "cell_type": "code",
   "execution_count": 20,
   "id": "c122de96",
   "metadata": {},
   "outputs": [
    {
     "data": {
      "text/plain": [
       "0.84375"
      ]
     },
     "execution_count": 20,
     "metadata": {},
     "output_type": "execute_result"
    }
   ],
   "source": [
    "precision_score(df['class'],df['scored.class'])"
   ]
  },
  {
   "cell_type": "markdown",
   "id": "16909696",
   "metadata": {},
   "source": [
    "**Recall Score**"
   ]
  },
  {
   "cell_type": "code",
   "execution_count": 21,
   "id": "9dc8ece2",
   "metadata": {},
   "outputs": [
    {
     "data": {
      "text/plain": [
       "0.47368421052631576"
      ]
     },
     "execution_count": 21,
     "metadata": {},
     "output_type": "execute_result"
    }
   ],
   "source": [
    "recall_score(df['class'],df['scored.class'])"
   ]
  },
  {
   "cell_type": "markdown",
   "id": "23b1fd3d",
   "metadata": {},
   "source": [
    "**F1 Score**"
   ]
  },
  {
   "cell_type": "code",
   "execution_count": 22,
   "id": "2e178686",
   "metadata": {},
   "outputs": [
    {
     "data": {
      "text/plain": [
       "0.6067415730337079"
      ]
     },
     "execution_count": 22,
     "metadata": {},
     "output_type": "execute_result"
    }
   ],
   "source": [
    "f1_score(df['class'],df['scored.class'])"
   ]
  },
  {
   "cell_type": "markdown",
   "id": "0ff0353b",
   "metadata": {},
   "source": [
    "**Confusion Matrix**"
   ]
  },
  {
   "cell_type": "code",
   "execution_count": 23,
   "id": "f6688b89",
   "metadata": {},
   "outputs": [
    {
     "data": {
      "text/plain": [
       "array([[119,   5],\n",
       "       [ 30,  27]], dtype=int64)"
      ]
     },
     "execution_count": 23,
     "metadata": {},
     "output_type": "execute_result"
    }
   ],
   "source": [
    "confusion_matrix(df['class'],df['scored.class'])"
   ]
  },
  {
   "cell_type": "markdown",
   "id": "65183382",
   "metadata": {},
   "source": [
    "**Classification_Report**"
   ]
  },
  {
   "cell_type": "code",
   "execution_count": 24,
   "id": "edb22aec",
   "metadata": {},
   "outputs": [
    {
     "name": "stdout",
     "output_type": "stream",
     "text": [
      "              precision    recall  f1-score   support\n",
      "\n",
      "           0       0.80      0.96      0.87       124\n",
      "           1       0.84      0.47      0.61        57\n",
      "\n",
      "    accuracy                           0.81       181\n",
      "   macro avg       0.82      0.72      0.74       181\n",
      "weighted avg       0.81      0.81      0.79       181\n",
      "\n"
     ]
    }
   ],
   "source": [
    "print(classification_report(df['class'],df['scored.class']))"
   ]
  },
  {
   "cell_type": "markdown",
   "id": "c9c345f8",
   "metadata": {},
   "source": [
    "**Observation**\n",
    "* We think the advantage of the built-in function is that we can call them directly, and use the classification_report function to compare the scores of different metrics, which is more intuitive. But if only focus on the results, there is no difference between the function we created ourselves and the built-in function."
   ]
  },
  {
   "cell_type": "markdown",
   "id": "db860156",
   "metadata": {},
   "source": [
    "### Plot"
   ]
  },
  {
   "cell_type": "code",
   "execution_count": 25,
   "id": "5daa770a",
   "metadata": {},
   "outputs": [
    {
     "data": {
      "image/png": "[encoded data removed]",
      "text/plain": [
       "<Figure size 640x480 with 1 Axes>"
      ]
     },
     "metadata": {},
     "output_type": "display_data"
    }
   ],
   "source": [
    "from sklearn.metrics import plot_roc_curve, roc_auc_score\n",
    "from sklearn.model_selection import train_test_split\n",
    "from sklearn.linear_model import LogisticRegression\n",
    "import warnings\n",
    "warnings.filterwarnings(\"ignore\")\n",
    "\n",
    "X = df.drop(['class', 'scored.class', 'scored.probability'], axis=1)\n",
    "y = df['class']\n",
    "X_train, X_test, y_train, y_test = train_test_split(X, y, test_size=0.2, random_state=42)\n",
    "\n",
    "\n",
    "model = LogisticRegression()\n",
    "model.fit(X_train, y_train)\n",
    "\n",
    "# Plot the ROC curve\n",
    "plot_roc_curve(model, X_train, y_train)\n",
    "plt.show()\n"
   ]
  },
  {
   "cell_type": "code",
   "execution_count": 26,
   "id": "d78f5cc3",
   "metadata": {},
   "outputs": [
    {
     "data": {
      "text/plain": [
       "0.7166808149405772"
      ]
     },
     "execution_count": 26,
     "metadata": {},
     "output_type": "execute_result"
    }
   ],
   "source": [
    "auc_score = roc_auc_score(df['class'],df['scored.class'])\n",
    "auc_score"
   ]
  },
  {
   "cell_type": "markdown",
   "id": "a129e442",
   "metadata": {},
   "source": [
    "**Observations**\n",
    "* The versions of auc() and plot_roc_curve mentioned in the guidelines given by Professor Topor may be outdated. We must first train a model, and then add the model, independent variables and dependent variables to the plot_roc_curve function to obtain corresponding results.\n",
    "\n",
    "* At the same time, in the last question, our graph is for the training set, so the auc is as high as 0.89, but when we calculate with the actual and predict columns in the dataset, the roc is only 0.71. This is very different from the 0.85 we calculated In and out, we didn't find the exact reason for this."
   ]
  },
  {
   "cell_type": "markdown",
   "id": "f3dd6a37",
   "metadata": {},
   "source": [
    "___"
   ]
  }
 ],
 "metadata": {
  "kernelspec": {
   "display_name": "Python 3 (ipykernel)",
   "language": "python",
   "name": "python3"
  },
  "language_info": {
   "codemirror_mode": {
    "name": "ipython",
    "version": 3
   },
   "file_extension": ".py",
   "mimetype": "text/x-python",
   "name": "python",
   "nbconvert_exporter": "python",
   "pygments_lexer": "ipython3",
   "version": "3.9.13"
  }
 },
 "nbformat": 4,
 "nbformat_minor": 5
}
